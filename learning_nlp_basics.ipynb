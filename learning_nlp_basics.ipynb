{
  "nbformat": 4,
  "nbformat_minor": 0,
  "metadata": {
    "colab": {
      "provenance": [],
      "authorship_tag": "ABX9TyNWMNaspbdl1uzgmsGPJIfO",
      "include_colab_link": true
    },
    "kernelspec": {
      "name": "python3",
      "display_name": "Python 3"
    },
    "language_info": {
      "name": "python"
    },
    "widgets": {
      "application/vnd.jupyter.widget-state+json": {
        "0e7e75dce51b43209afce199213f5270": {
          "model_module": "@jupyter-widgets/controls",
          "model_name": "HBoxModel",
          "model_module_version": "1.5.0",
          "state": {
            "_dom_classes": [],
            "_model_module": "@jupyter-widgets/controls",
            "_model_module_version": "1.5.0",
            "_model_name": "HBoxModel",
            "_view_count": null,
            "_view_module": "@jupyter-widgets/controls",
            "_view_module_version": "1.5.0",
            "_view_name": "HBoxView",
            "box_style": "",
            "children": [
              "IPY_MODEL_82d0c320b726479f9e277b4b44a8948e",
              "IPY_MODEL_5c412ea6a49545798a1120f0ceaf9f64",
              "IPY_MODEL_67ee4fef4a314b4e8f31c2e799b713cd"
            ],
            "layout": "IPY_MODEL_e79f232d6b4c40469afea7f634b6bc64"
          }
        },
        "82d0c320b726479f9e277b4b44a8948e": {
          "model_module": "@jupyter-widgets/controls",
          "model_name": "HTMLModel",
          "model_module_version": "1.5.0",
          "state": {
            "_dom_classes": [],
            "_model_module": "@jupyter-widgets/controls",
            "_model_module_version": "1.5.0",
            "_model_name": "HTMLModel",
            "_view_count": null,
            "_view_module": "@jupyter-widgets/controls",
            "_view_module_version": "1.5.0",
            "_view_name": "HTMLView",
            "description": "",
            "description_tooltip": null,
            "layout": "IPY_MODEL_f6c32a751a554c12bc1b34f187b8d77a",
            "placeholder": "​",
            "style": "IPY_MODEL_2b473c1c162048dfb154da1e23f8b835",
            "value": "tokenizer_config.json: 100%"
          }
        },
        "5c412ea6a49545798a1120f0ceaf9f64": {
          "model_module": "@jupyter-widgets/controls",
          "model_name": "FloatProgressModel",
          "model_module_version": "1.5.0",
          "state": {
            "_dom_classes": [],
            "_model_module": "@jupyter-widgets/controls",
            "_model_module_version": "1.5.0",
            "_model_name": "FloatProgressModel",
            "_view_count": null,
            "_view_module": "@jupyter-widgets/controls",
            "_view_module_version": "1.5.0",
            "_view_name": "ProgressView",
            "bar_style": "success",
            "description": "",
            "description_tooltip": null,
            "layout": "IPY_MODEL_3b12ab8cf62145d8b995fd0c8c0a3bd4",
            "max": 49,
            "min": 0,
            "orientation": "horizontal",
            "style": "IPY_MODEL_3cf8e01822f14657bc16751a941d2eb0",
            "value": 49
          }
        },
        "67ee4fef4a314b4e8f31c2e799b713cd": {
          "model_module": "@jupyter-widgets/controls",
          "model_name": "HTMLModel",
          "model_module_version": "1.5.0",
          "state": {
            "_dom_classes": [],
            "_model_module": "@jupyter-widgets/controls",
            "_model_module_version": "1.5.0",
            "_model_name": "HTMLModel",
            "_view_count": null,
            "_view_module": "@jupyter-widgets/controls",
            "_view_module_version": "1.5.0",
            "_view_name": "HTMLView",
            "description": "",
            "description_tooltip": null,
            "layout": "IPY_MODEL_cbec5064150d4ab9a1509d1d69ebba11",
            "placeholder": "​",
            "style": "IPY_MODEL_dfce459a40f84498ad7504e62e406c07",
            "value": " 49.0/49.0 [00:00&lt;00:00, 776B/s]"
          }
        },
        "e79f232d6b4c40469afea7f634b6bc64": {
          "model_module": "@jupyter-widgets/base",
          "model_name": "LayoutModel",
          "model_module_version": "1.2.0",
          "state": {
            "_model_module": "@jupyter-widgets/base",
            "_model_module_version": "1.2.0",
            "_model_name": "LayoutModel",
            "_view_count": null,
            "_view_module": "@jupyter-widgets/base",
            "_view_module_version": "1.2.0",
            "_view_name": "LayoutView",
            "align_content": null,
            "align_items": null,
            "align_self": null,
            "border": null,
            "bottom": null,
            "display": null,
            "flex": null,
            "flex_flow": null,
            "grid_area": null,
            "grid_auto_columns": null,
            "grid_auto_flow": null,
            "grid_auto_rows": null,
            "grid_column": null,
            "grid_gap": null,
            "grid_row": null,
            "grid_template_areas": null,
            "grid_template_columns": null,
            "grid_template_rows": null,
            "height": null,
            "justify_content": null,
            "justify_items": null,
            "left": null,
            "margin": null,
            "max_height": null,
            "max_width": null,
            "min_height": null,
            "min_width": null,
            "object_fit": null,
            "object_position": null,
            "order": null,
            "overflow": null,
            "overflow_x": null,
            "overflow_y": null,
            "padding": null,
            "right": null,
            "top": null,
            "visibility": null,
            "width": null
          }
        },
        "f6c32a751a554c12bc1b34f187b8d77a": {
          "model_module": "@jupyter-widgets/base",
          "model_name": "LayoutModel",
          "model_module_version": "1.2.0",
          "state": {
            "_model_module": "@jupyter-widgets/base",
            "_model_module_version": "1.2.0",
            "_model_name": "LayoutModel",
            "_view_count": null,
            "_view_module": "@jupyter-widgets/base",
            "_view_module_version": "1.2.0",
            "_view_name": "LayoutView",
            "align_content": null,
            "align_items": null,
            "align_self": null,
            "border": null,
            "bottom": null,
            "display": null,
            "flex": null,
            "flex_flow": null,
            "grid_area": null,
            "grid_auto_columns": null,
            "grid_auto_flow": null,
            "grid_auto_rows": null,
            "grid_column": null,
            "grid_gap": null,
            "grid_row": null,
            "grid_template_areas": null,
            "grid_template_columns": null,
            "grid_template_rows": null,
            "height": null,
            "justify_content": null,
            "justify_items": null,
            "left": null,
            "margin": null,
            "max_height": null,
            "max_width": null,
            "min_height": null,
            "min_width": null,
            "object_fit": null,
            "object_position": null,
            "order": null,
            "overflow": null,
            "overflow_x": null,
            "overflow_y": null,
            "padding": null,
            "right": null,
            "top": null,
            "visibility": null,
            "width": null
          }
        },
        "2b473c1c162048dfb154da1e23f8b835": {
          "model_module": "@jupyter-widgets/controls",
          "model_name": "DescriptionStyleModel",
          "model_module_version": "1.5.0",
          "state": {
            "_model_module": "@jupyter-widgets/controls",
            "_model_module_version": "1.5.0",
            "_model_name": "DescriptionStyleModel",
            "_view_count": null,
            "_view_module": "@jupyter-widgets/base",
            "_view_module_version": "1.2.0",
            "_view_name": "StyleView",
            "description_width": ""
          }
        },
        "3b12ab8cf62145d8b995fd0c8c0a3bd4": {
          "model_module": "@jupyter-widgets/base",
          "model_name": "LayoutModel",
          "model_module_version": "1.2.0",
          "state": {
            "_model_module": "@jupyter-widgets/base",
            "_model_module_version": "1.2.0",
            "_model_name": "LayoutModel",
            "_view_count": null,
            "_view_module": "@jupyter-widgets/base",
            "_view_module_version": "1.2.0",
            "_view_name": "LayoutView",
            "align_content": null,
            "align_items": null,
            "align_self": null,
            "border": null,
            "bottom": null,
            "display": null,
            "flex": null,
            "flex_flow": null,
            "grid_area": null,
            "grid_auto_columns": null,
            "grid_auto_flow": null,
            "grid_auto_rows": null,
            "grid_column": null,
            "grid_gap": null,
            "grid_row": null,
            "grid_template_areas": null,
            "grid_template_columns": null,
            "grid_template_rows": null,
            "height": null,
            "justify_content": null,
            "justify_items": null,
            "left": null,
            "margin": null,
            "max_height": null,
            "max_width": null,
            "min_height": null,
            "min_width": null,
            "object_fit": null,
            "object_position": null,
            "order": null,
            "overflow": null,
            "overflow_x": null,
            "overflow_y": null,
            "padding": null,
            "right": null,
            "top": null,
            "visibility": null,
            "width": null
          }
        },
        "3cf8e01822f14657bc16751a941d2eb0": {
          "model_module": "@jupyter-widgets/controls",
          "model_name": "ProgressStyleModel",
          "model_module_version": "1.5.0",
          "state": {
            "_model_module": "@jupyter-widgets/controls",
            "_model_module_version": "1.5.0",
            "_model_name": "ProgressStyleModel",
            "_view_count": null,
            "_view_module": "@jupyter-widgets/base",
            "_view_module_version": "1.2.0",
            "_view_name": "StyleView",
            "bar_color": null,
            "description_width": ""
          }
        },
        "cbec5064150d4ab9a1509d1d69ebba11": {
          "model_module": "@jupyter-widgets/base",
          "model_name": "LayoutModel",
          "model_module_version": "1.2.0",
          "state": {
            "_model_module": "@jupyter-widgets/base",
            "_model_module_version": "1.2.0",
            "_model_name": "LayoutModel",
            "_view_count": null,
            "_view_module": "@jupyter-widgets/base",
            "_view_module_version": "1.2.0",
            "_view_name": "LayoutView",
            "align_content": null,
            "align_items": null,
            "align_self": null,
            "border": null,
            "bottom": null,
            "display": null,
            "flex": null,
            "flex_flow": null,
            "grid_area": null,
            "grid_auto_columns": null,
            "grid_auto_flow": null,
            "grid_auto_rows": null,
            "grid_column": null,
            "grid_gap": null,
            "grid_row": null,
            "grid_template_areas": null,
            "grid_template_columns": null,
            "grid_template_rows": null,
            "height": null,
            "justify_content": null,
            "justify_items": null,
            "left": null,
            "margin": null,
            "max_height": null,
            "max_width": null,
            "min_height": null,
            "min_width": null,
            "object_fit": null,
            "object_position": null,
            "order": null,
            "overflow": null,
            "overflow_x": null,
            "overflow_y": null,
            "padding": null,
            "right": null,
            "top": null,
            "visibility": null,
            "width": null
          }
        },
        "dfce459a40f84498ad7504e62e406c07": {
          "model_module": "@jupyter-widgets/controls",
          "model_name": "DescriptionStyleModel",
          "model_module_version": "1.5.0",
          "state": {
            "_model_module": "@jupyter-widgets/controls",
            "_model_module_version": "1.5.0",
            "_model_name": "DescriptionStyleModel",
            "_view_count": null,
            "_view_module": "@jupyter-widgets/base",
            "_view_module_version": "1.2.0",
            "_view_name": "StyleView",
            "description_width": ""
          }
        },
        "6bacb0410de04fee8e5fa8bcc4c8ee3d": {
          "model_module": "@jupyter-widgets/controls",
          "model_name": "HBoxModel",
          "model_module_version": "1.5.0",
          "state": {
            "_dom_classes": [],
            "_model_module": "@jupyter-widgets/controls",
            "_model_module_version": "1.5.0",
            "_model_name": "HBoxModel",
            "_view_count": null,
            "_view_module": "@jupyter-widgets/controls",
            "_view_module_version": "1.5.0",
            "_view_name": "HBoxView",
            "box_style": "",
            "children": [
              "IPY_MODEL_19d165006bb043c2aee9cd9f697b3024",
              "IPY_MODEL_6fd555810e764e00bce6229870128843",
              "IPY_MODEL_3c8b0dc4ee384f1e86efb99626dad857"
            ],
            "layout": "IPY_MODEL_8fbaf54172d8469a96f4f017d22ed63c"
          }
        },
        "19d165006bb043c2aee9cd9f697b3024": {
          "model_module": "@jupyter-widgets/controls",
          "model_name": "HTMLModel",
          "model_module_version": "1.5.0",
          "state": {
            "_dom_classes": [],
            "_model_module": "@jupyter-widgets/controls",
            "_model_module_version": "1.5.0",
            "_model_name": "HTMLModel",
            "_view_count": null,
            "_view_module": "@jupyter-widgets/controls",
            "_view_module_version": "1.5.0",
            "_view_name": "HTMLView",
            "description": "",
            "description_tooltip": null,
            "layout": "IPY_MODEL_7b1eb9b8a1d547a1b4390b8b5d958dc7",
            "placeholder": "​",
            "style": "IPY_MODEL_5895f6c6f9d44f09a5b786b1b1196dd8",
            "value": "vocab.txt: 100%"
          }
        },
        "6fd555810e764e00bce6229870128843": {
          "model_module": "@jupyter-widgets/controls",
          "model_name": "FloatProgressModel",
          "model_module_version": "1.5.0",
          "state": {
            "_dom_classes": [],
            "_model_module": "@jupyter-widgets/controls",
            "_model_module_version": "1.5.0",
            "_model_name": "FloatProgressModel",
            "_view_count": null,
            "_view_module": "@jupyter-widgets/controls",
            "_view_module_version": "1.5.0",
            "_view_name": "ProgressView",
            "bar_style": "success",
            "description": "",
            "description_tooltip": null,
            "layout": "IPY_MODEL_ab69c764e23748a891efb88a0658acf9",
            "max": 213450,
            "min": 0,
            "orientation": "horizontal",
            "style": "IPY_MODEL_da09cde223e648aeb0313dfed6429cf0",
            "value": 213450
          }
        },
        "3c8b0dc4ee384f1e86efb99626dad857": {
          "model_module": "@jupyter-widgets/controls",
          "model_name": "HTMLModel",
          "model_module_version": "1.5.0",
          "state": {
            "_dom_classes": [],
            "_model_module": "@jupyter-widgets/controls",
            "_model_module_version": "1.5.0",
            "_model_name": "HTMLModel",
            "_view_count": null,
            "_view_module": "@jupyter-widgets/controls",
            "_view_module_version": "1.5.0",
            "_view_name": "HTMLView",
            "description": "",
            "description_tooltip": null,
            "layout": "IPY_MODEL_4dd11a4d4f394c74971da5276afc4294",
            "placeholder": "​",
            "style": "IPY_MODEL_da34708904ef457397f26400ced17ffc",
            "value": " 213k/213k [00:00&lt;00:00, 1.95MB/s]"
          }
        },
        "8fbaf54172d8469a96f4f017d22ed63c": {
          "model_module": "@jupyter-widgets/base",
          "model_name": "LayoutModel",
          "model_module_version": "1.2.0",
          "state": {
            "_model_module": "@jupyter-widgets/base",
            "_model_module_version": "1.2.0",
            "_model_name": "LayoutModel",
            "_view_count": null,
            "_view_module": "@jupyter-widgets/base",
            "_view_module_version": "1.2.0",
            "_view_name": "LayoutView",
            "align_content": null,
            "align_items": null,
            "align_self": null,
            "border": null,
            "bottom": null,
            "display": null,
            "flex": null,
            "flex_flow": null,
            "grid_area": null,
            "grid_auto_columns": null,
            "grid_auto_flow": null,
            "grid_auto_rows": null,
            "grid_column": null,
            "grid_gap": null,
            "grid_row": null,
            "grid_template_areas": null,
            "grid_template_columns": null,
            "grid_template_rows": null,
            "height": null,
            "justify_content": null,
            "justify_items": null,
            "left": null,
            "margin": null,
            "max_height": null,
            "max_width": null,
            "min_height": null,
            "min_width": null,
            "object_fit": null,
            "object_position": null,
            "order": null,
            "overflow": null,
            "overflow_x": null,
            "overflow_y": null,
            "padding": null,
            "right": null,
            "top": null,
            "visibility": null,
            "width": null
          }
        },
        "7b1eb9b8a1d547a1b4390b8b5d958dc7": {
          "model_module": "@jupyter-widgets/base",
          "model_name": "LayoutModel",
          "model_module_version": "1.2.0",
          "state": {
            "_model_module": "@jupyter-widgets/base",
            "_model_module_version": "1.2.0",
            "_model_name": "LayoutModel",
            "_view_count": null,
            "_view_module": "@jupyter-widgets/base",
            "_view_module_version": "1.2.0",
            "_view_name": "LayoutView",
            "align_content": null,
            "align_items": null,
            "align_self": null,
            "border": null,
            "bottom": null,
            "display": null,
            "flex": null,
            "flex_flow": null,
            "grid_area": null,
            "grid_auto_columns": null,
            "grid_auto_flow": null,
            "grid_auto_rows": null,
            "grid_column": null,
            "grid_gap": null,
            "grid_row": null,
            "grid_template_areas": null,
            "grid_template_columns": null,
            "grid_template_rows": null,
            "height": null,
            "justify_content": null,
            "justify_items": null,
            "left": null,
            "margin": null,
            "max_height": null,
            "max_width": null,
            "min_height": null,
            "min_width": null,
            "object_fit": null,
            "object_position": null,
            "order": null,
            "overflow": null,
            "overflow_x": null,
            "overflow_y": null,
            "padding": null,
            "right": null,
            "top": null,
            "visibility": null,
            "width": null
          }
        },
        "5895f6c6f9d44f09a5b786b1b1196dd8": {
          "model_module": "@jupyter-widgets/controls",
          "model_name": "DescriptionStyleModel",
          "model_module_version": "1.5.0",
          "state": {
            "_model_module": "@jupyter-widgets/controls",
            "_model_module_version": "1.5.0",
            "_model_name": "DescriptionStyleModel",
            "_view_count": null,
            "_view_module": "@jupyter-widgets/base",
            "_view_module_version": "1.2.0",
            "_view_name": "StyleView",
            "description_width": ""
          }
        },
        "ab69c764e23748a891efb88a0658acf9": {
          "model_module": "@jupyter-widgets/base",
          "model_name": "LayoutModel",
          "model_module_version": "1.2.0",
          "state": {
            "_model_module": "@jupyter-widgets/base",
            "_model_module_version": "1.2.0",
            "_model_name": "LayoutModel",
            "_view_count": null,
            "_view_module": "@jupyter-widgets/base",
            "_view_module_version": "1.2.0",
            "_view_name": "LayoutView",
            "align_content": null,
            "align_items": null,
            "align_self": null,
            "border": null,
            "bottom": null,
            "display": null,
            "flex": null,
            "flex_flow": null,
            "grid_area": null,
            "grid_auto_columns": null,
            "grid_auto_flow": null,
            "grid_auto_rows": null,
            "grid_column": null,
            "grid_gap": null,
            "grid_row": null,
            "grid_template_areas": null,
            "grid_template_columns": null,
            "grid_template_rows": null,
            "height": null,
            "justify_content": null,
            "justify_items": null,
            "left": null,
            "margin": null,
            "max_height": null,
            "max_width": null,
            "min_height": null,
            "min_width": null,
            "object_fit": null,
            "object_position": null,
            "order": null,
            "overflow": null,
            "overflow_x": null,
            "overflow_y": null,
            "padding": null,
            "right": null,
            "top": null,
            "visibility": null,
            "width": null
          }
        },
        "da09cde223e648aeb0313dfed6429cf0": {
          "model_module": "@jupyter-widgets/controls",
          "model_name": "ProgressStyleModel",
          "model_module_version": "1.5.0",
          "state": {
            "_model_module": "@jupyter-widgets/controls",
            "_model_module_version": "1.5.0",
            "_model_name": "ProgressStyleModel",
            "_view_count": null,
            "_view_module": "@jupyter-widgets/base",
            "_view_module_version": "1.2.0",
            "_view_name": "StyleView",
            "bar_color": null,
            "description_width": ""
          }
        },
        "4dd11a4d4f394c74971da5276afc4294": {
          "model_module": "@jupyter-widgets/base",
          "model_name": "LayoutModel",
          "model_module_version": "1.2.0",
          "state": {
            "_model_module": "@jupyter-widgets/base",
            "_model_module_version": "1.2.0",
            "_model_name": "LayoutModel",
            "_view_count": null,
            "_view_module": "@jupyter-widgets/base",
            "_view_module_version": "1.2.0",
            "_view_name": "LayoutView",
            "align_content": null,
            "align_items": null,
            "align_self": null,
            "border": null,
            "bottom": null,
            "display": null,
            "flex": null,
            "flex_flow": null,
            "grid_area": null,
            "grid_auto_columns": null,
            "grid_auto_flow": null,
            "grid_auto_rows": null,
            "grid_column": null,
            "grid_gap": null,
            "grid_row": null,
            "grid_template_areas": null,
            "grid_template_columns": null,
            "grid_template_rows": null,
            "height": null,
            "justify_content": null,
            "justify_items": null,
            "left": null,
            "margin": null,
            "max_height": null,
            "max_width": null,
            "min_height": null,
            "min_width": null,
            "object_fit": null,
            "object_position": null,
            "order": null,
            "overflow": null,
            "overflow_x": null,
            "overflow_y": null,
            "padding": null,
            "right": null,
            "top": null,
            "visibility": null,
            "width": null
          }
        },
        "da34708904ef457397f26400ced17ffc": {
          "model_module": "@jupyter-widgets/controls",
          "model_name": "DescriptionStyleModel",
          "model_module_version": "1.5.0",
          "state": {
            "_model_module": "@jupyter-widgets/controls",
            "_model_module_version": "1.5.0",
            "_model_name": "DescriptionStyleModel",
            "_view_count": null,
            "_view_module": "@jupyter-widgets/base",
            "_view_module_version": "1.2.0",
            "_view_name": "StyleView",
            "description_width": ""
          }
        },
        "ab80d460cacd465bb9eabf7b6c171b3e": {
          "model_module": "@jupyter-widgets/controls",
          "model_name": "HBoxModel",
          "model_module_version": "1.5.0",
          "state": {
            "_dom_classes": [],
            "_model_module": "@jupyter-widgets/controls",
            "_model_module_version": "1.5.0",
            "_model_name": "HBoxModel",
            "_view_count": null,
            "_view_module": "@jupyter-widgets/controls",
            "_view_module_version": "1.5.0",
            "_view_name": "HBoxView",
            "box_style": "",
            "children": [
              "IPY_MODEL_6fca55e8e27a4d05987754ec3b9b7a74",
              "IPY_MODEL_1b77aba3cebc4164a3080449261acc3b",
              "IPY_MODEL_d9632fc3dd6549f9996167f06d9a6669"
            ],
            "layout": "IPY_MODEL_f85dd0e73e7b401cb4e038b5d7238f3c"
          }
        },
        "6fca55e8e27a4d05987754ec3b9b7a74": {
          "model_module": "@jupyter-widgets/controls",
          "model_name": "HTMLModel",
          "model_module_version": "1.5.0",
          "state": {
            "_dom_classes": [],
            "_model_module": "@jupyter-widgets/controls",
            "_model_module_version": "1.5.0",
            "_model_name": "HTMLModel",
            "_view_count": null,
            "_view_module": "@jupyter-widgets/controls",
            "_view_module_version": "1.5.0",
            "_view_name": "HTMLView",
            "description": "",
            "description_tooltip": null,
            "layout": "IPY_MODEL_853444aa174840d389b6766d1322f798",
            "placeholder": "​",
            "style": "IPY_MODEL_1e3284bc43144d65a30d0d0cbc1db9aa",
            "value": "tokenizer.json: 100%"
          }
        },
        "1b77aba3cebc4164a3080449261acc3b": {
          "model_module": "@jupyter-widgets/controls",
          "model_name": "FloatProgressModel",
          "model_module_version": "1.5.0",
          "state": {
            "_dom_classes": [],
            "_model_module": "@jupyter-widgets/controls",
            "_model_module_version": "1.5.0",
            "_model_name": "FloatProgressModel",
            "_view_count": null,
            "_view_module": "@jupyter-widgets/controls",
            "_view_module_version": "1.5.0",
            "_view_name": "ProgressView",
            "bar_style": "success",
            "description": "",
            "description_tooltip": null,
            "layout": "IPY_MODEL_d912587c7e5544a98e16d68ec30e9ef4",
            "max": 435797,
            "min": 0,
            "orientation": "horizontal",
            "style": "IPY_MODEL_9e3ca7ffca904647a5a67ded7cbd8e5e",
            "value": 435797
          }
        },
        "d9632fc3dd6549f9996167f06d9a6669": {
          "model_module": "@jupyter-widgets/controls",
          "model_name": "HTMLModel",
          "model_module_version": "1.5.0",
          "state": {
            "_dom_classes": [],
            "_model_module": "@jupyter-widgets/controls",
            "_model_module_version": "1.5.0",
            "_model_name": "HTMLModel",
            "_view_count": null,
            "_view_module": "@jupyter-widgets/controls",
            "_view_module_version": "1.5.0",
            "_view_name": "HTMLView",
            "description": "",
            "description_tooltip": null,
            "layout": "IPY_MODEL_02fba7c8ad114eeaa5211049bbef04ab",
            "placeholder": "​",
            "style": "IPY_MODEL_4d89ea248d2749c5a1567a4dba046eda",
            "value": " 436k/436k [00:00&lt;00:00, 2.57MB/s]"
          }
        },
        "f85dd0e73e7b401cb4e038b5d7238f3c": {
          "model_module": "@jupyter-widgets/base",
          "model_name": "LayoutModel",
          "model_module_version": "1.2.0",
          "state": {
            "_model_module": "@jupyter-widgets/base",
            "_model_module_version": "1.2.0",
            "_model_name": "LayoutModel",
            "_view_count": null,
            "_view_module": "@jupyter-widgets/base",
            "_view_module_version": "1.2.0",
            "_view_name": "LayoutView",
            "align_content": null,
            "align_items": null,
            "align_self": null,
            "border": null,
            "bottom": null,
            "display": null,
            "flex": null,
            "flex_flow": null,
            "grid_area": null,
            "grid_auto_columns": null,
            "grid_auto_flow": null,
            "grid_auto_rows": null,
            "grid_column": null,
            "grid_gap": null,
            "grid_row": null,
            "grid_template_areas": null,
            "grid_template_columns": null,
            "grid_template_rows": null,
            "height": null,
            "justify_content": null,
            "justify_items": null,
            "left": null,
            "margin": null,
            "max_height": null,
            "max_width": null,
            "min_height": null,
            "min_width": null,
            "object_fit": null,
            "object_position": null,
            "order": null,
            "overflow": null,
            "overflow_x": null,
            "overflow_y": null,
            "padding": null,
            "right": null,
            "top": null,
            "visibility": null,
            "width": null
          }
        },
        "853444aa174840d389b6766d1322f798": {
          "model_module": "@jupyter-widgets/base",
          "model_name": "LayoutModel",
          "model_module_version": "1.2.0",
          "state": {
            "_model_module": "@jupyter-widgets/base",
            "_model_module_version": "1.2.0",
            "_model_name": "LayoutModel",
            "_view_count": null,
            "_view_module": "@jupyter-widgets/base",
            "_view_module_version": "1.2.0",
            "_view_name": "LayoutView",
            "align_content": null,
            "align_items": null,
            "align_self": null,
            "border": null,
            "bottom": null,
            "display": null,
            "flex": null,
            "flex_flow": null,
            "grid_area": null,
            "grid_auto_columns": null,
            "grid_auto_flow": null,
            "grid_auto_rows": null,
            "grid_column": null,
            "grid_gap": null,
            "grid_row": null,
            "grid_template_areas": null,
            "grid_template_columns": null,
            "grid_template_rows": null,
            "height": null,
            "justify_content": null,
            "justify_items": null,
            "left": null,
            "margin": null,
            "max_height": null,
            "max_width": null,
            "min_height": null,
            "min_width": null,
            "object_fit": null,
            "object_position": null,
            "order": null,
            "overflow": null,
            "overflow_x": null,
            "overflow_y": null,
            "padding": null,
            "right": null,
            "top": null,
            "visibility": null,
            "width": null
          }
        },
        "1e3284bc43144d65a30d0d0cbc1db9aa": {
          "model_module": "@jupyter-widgets/controls",
          "model_name": "DescriptionStyleModel",
          "model_module_version": "1.5.0",
          "state": {
            "_model_module": "@jupyter-widgets/controls",
            "_model_module_version": "1.5.0",
            "_model_name": "DescriptionStyleModel",
            "_view_count": null,
            "_view_module": "@jupyter-widgets/base",
            "_view_module_version": "1.2.0",
            "_view_name": "StyleView",
            "description_width": ""
          }
        },
        "d912587c7e5544a98e16d68ec30e9ef4": {
          "model_module": "@jupyter-widgets/base",
          "model_name": "LayoutModel",
          "model_module_version": "1.2.0",
          "state": {
            "_model_module": "@jupyter-widgets/base",
            "_model_module_version": "1.2.0",
            "_model_name": "LayoutModel",
            "_view_count": null,
            "_view_module": "@jupyter-widgets/base",
            "_view_module_version": "1.2.0",
            "_view_name": "LayoutView",
            "align_content": null,
            "align_items": null,
            "align_self": null,
            "border": null,
            "bottom": null,
            "display": null,
            "flex": null,
            "flex_flow": null,
            "grid_area": null,
            "grid_auto_columns": null,
            "grid_auto_flow": null,
            "grid_auto_rows": null,
            "grid_column": null,
            "grid_gap": null,
            "grid_row": null,
            "grid_template_areas": null,
            "grid_template_columns": null,
            "grid_template_rows": null,
            "height": null,
            "justify_content": null,
            "justify_items": null,
            "left": null,
            "margin": null,
            "max_height": null,
            "max_width": null,
            "min_height": null,
            "min_width": null,
            "object_fit": null,
            "object_position": null,
            "order": null,
            "overflow": null,
            "overflow_x": null,
            "overflow_y": null,
            "padding": null,
            "right": null,
            "top": null,
            "visibility": null,
            "width": null
          }
        },
        "9e3ca7ffca904647a5a67ded7cbd8e5e": {
          "model_module": "@jupyter-widgets/controls",
          "model_name": "ProgressStyleModel",
          "model_module_version": "1.5.0",
          "state": {
            "_model_module": "@jupyter-widgets/controls",
            "_model_module_version": "1.5.0",
            "_model_name": "ProgressStyleModel",
            "_view_count": null,
            "_view_module": "@jupyter-widgets/base",
            "_view_module_version": "1.2.0",
            "_view_name": "StyleView",
            "bar_color": null,
            "description_width": ""
          }
        },
        "02fba7c8ad114eeaa5211049bbef04ab": {
          "model_module": "@jupyter-widgets/base",
          "model_name": "LayoutModel",
          "model_module_version": "1.2.0",
          "state": {
            "_model_module": "@jupyter-widgets/base",
            "_model_module_version": "1.2.0",
            "_model_name": "LayoutModel",
            "_view_count": null,
            "_view_module": "@jupyter-widgets/base",
            "_view_module_version": "1.2.0",
            "_view_name": "LayoutView",
            "align_content": null,
            "align_items": null,
            "align_self": null,
            "border": null,
            "bottom": null,
            "display": null,
            "flex": null,
            "flex_flow": null,
            "grid_area": null,
            "grid_auto_columns": null,
            "grid_auto_flow": null,
            "grid_auto_rows": null,
            "grid_column": null,
            "grid_gap": null,
            "grid_row": null,
            "grid_template_areas": null,
            "grid_template_columns": null,
            "grid_template_rows": null,
            "height": null,
            "justify_content": null,
            "justify_items": null,
            "left": null,
            "margin": null,
            "max_height": null,
            "max_width": null,
            "min_height": null,
            "min_width": null,
            "object_fit": null,
            "object_position": null,
            "order": null,
            "overflow": null,
            "overflow_x": null,
            "overflow_y": null,
            "padding": null,
            "right": null,
            "top": null,
            "visibility": null,
            "width": null
          }
        },
        "4d89ea248d2749c5a1567a4dba046eda": {
          "model_module": "@jupyter-widgets/controls",
          "model_name": "DescriptionStyleModel",
          "model_module_version": "1.5.0",
          "state": {
            "_model_module": "@jupyter-widgets/controls",
            "_model_module_version": "1.5.0",
            "_model_name": "DescriptionStyleModel",
            "_view_count": null,
            "_view_module": "@jupyter-widgets/base",
            "_view_module_version": "1.2.0",
            "_view_name": "StyleView",
            "description_width": ""
          }
        },
        "826b2d1b91a54de7be6ae61f4a0956a0": {
          "model_module": "@jupyter-widgets/controls",
          "model_name": "HBoxModel",
          "model_module_version": "1.5.0",
          "state": {
            "_dom_classes": [],
            "_model_module": "@jupyter-widgets/controls",
            "_model_module_version": "1.5.0",
            "_model_name": "HBoxModel",
            "_view_count": null,
            "_view_module": "@jupyter-widgets/controls",
            "_view_module_version": "1.5.0",
            "_view_name": "HBoxView",
            "box_style": "",
            "children": [
              "IPY_MODEL_78f60ce6619b46e1ac60b7b9e20ea4c5",
              "IPY_MODEL_010703076201472e8766b6af44b96a6c",
              "IPY_MODEL_74d1f0a6149c40f6adf0e733054ce639"
            ],
            "layout": "IPY_MODEL_44c00ae4590043e883de7fe4ed3d0489"
          }
        },
        "78f60ce6619b46e1ac60b7b9e20ea4c5": {
          "model_module": "@jupyter-widgets/controls",
          "model_name": "HTMLModel",
          "model_module_version": "1.5.0",
          "state": {
            "_dom_classes": [],
            "_model_module": "@jupyter-widgets/controls",
            "_model_module_version": "1.5.0",
            "_model_name": "HTMLModel",
            "_view_count": null,
            "_view_module": "@jupyter-widgets/controls",
            "_view_module_version": "1.5.0",
            "_view_name": "HTMLView",
            "description": "",
            "description_tooltip": null,
            "layout": "IPY_MODEL_1deae4b49beb4318bfdd4ef6133c9f8d",
            "placeholder": "​",
            "style": "IPY_MODEL_3172efe4593045958f93191e5b802adb",
            "value": "config.json: 100%"
          }
        },
        "010703076201472e8766b6af44b96a6c": {
          "model_module": "@jupyter-widgets/controls",
          "model_name": "FloatProgressModel",
          "model_module_version": "1.5.0",
          "state": {
            "_dom_classes": [],
            "_model_module": "@jupyter-widgets/controls",
            "_model_module_version": "1.5.0",
            "_model_name": "FloatProgressModel",
            "_view_count": null,
            "_view_module": "@jupyter-widgets/controls",
            "_view_module_version": "1.5.0",
            "_view_name": "ProgressView",
            "bar_style": "success",
            "description": "",
            "description_tooltip": null,
            "layout": "IPY_MODEL_69edc0d7de0f45819be575e5c7f38f57",
            "max": 570,
            "min": 0,
            "orientation": "horizontal",
            "style": "IPY_MODEL_a6c764b20d7d4cb4967699ab694ee19b",
            "value": 570
          }
        },
        "74d1f0a6149c40f6adf0e733054ce639": {
          "model_module": "@jupyter-widgets/controls",
          "model_name": "HTMLModel",
          "model_module_version": "1.5.0",
          "state": {
            "_dom_classes": [],
            "_model_module": "@jupyter-widgets/controls",
            "_model_module_version": "1.5.0",
            "_model_name": "HTMLModel",
            "_view_count": null,
            "_view_module": "@jupyter-widgets/controls",
            "_view_module_version": "1.5.0",
            "_view_name": "HTMLView",
            "description": "",
            "description_tooltip": null,
            "layout": "IPY_MODEL_5614563c1ae64adbabbbcc0585717ff1",
            "placeholder": "​",
            "style": "IPY_MODEL_adb3656755ae4e78a13fdb19684b4313",
            "value": " 570/570 [00:00&lt;00:00, 9.03kB/s]"
          }
        },
        "44c00ae4590043e883de7fe4ed3d0489": {
          "model_module": "@jupyter-widgets/base",
          "model_name": "LayoutModel",
          "model_module_version": "1.2.0",
          "state": {
            "_model_module": "@jupyter-widgets/base",
            "_model_module_version": "1.2.0",
            "_model_name": "LayoutModel",
            "_view_count": null,
            "_view_module": "@jupyter-widgets/base",
            "_view_module_version": "1.2.0",
            "_view_name": "LayoutView",
            "align_content": null,
            "align_items": null,
            "align_self": null,
            "border": null,
            "bottom": null,
            "display": null,
            "flex": null,
            "flex_flow": null,
            "grid_area": null,
            "grid_auto_columns": null,
            "grid_auto_flow": null,
            "grid_auto_rows": null,
            "grid_column": null,
            "grid_gap": null,
            "grid_row": null,
            "grid_template_areas": null,
            "grid_template_columns": null,
            "grid_template_rows": null,
            "height": null,
            "justify_content": null,
            "justify_items": null,
            "left": null,
            "margin": null,
            "max_height": null,
            "max_width": null,
            "min_height": null,
            "min_width": null,
            "object_fit": null,
            "object_position": null,
            "order": null,
            "overflow": null,
            "overflow_x": null,
            "overflow_y": null,
            "padding": null,
            "right": null,
            "top": null,
            "visibility": null,
            "width": null
          }
        },
        "1deae4b49beb4318bfdd4ef6133c9f8d": {
          "model_module": "@jupyter-widgets/base",
          "model_name": "LayoutModel",
          "model_module_version": "1.2.0",
          "state": {
            "_model_module": "@jupyter-widgets/base",
            "_model_module_version": "1.2.0",
            "_model_name": "LayoutModel",
            "_view_count": null,
            "_view_module": "@jupyter-widgets/base",
            "_view_module_version": "1.2.0",
            "_view_name": "LayoutView",
            "align_content": null,
            "align_items": null,
            "align_self": null,
            "border": null,
            "bottom": null,
            "display": null,
            "flex": null,
            "flex_flow": null,
            "grid_area": null,
            "grid_auto_columns": null,
            "grid_auto_flow": null,
            "grid_auto_rows": null,
            "grid_column": null,
            "grid_gap": null,
            "grid_row": null,
            "grid_template_areas": null,
            "grid_template_columns": null,
            "grid_template_rows": null,
            "height": null,
            "justify_content": null,
            "justify_items": null,
            "left": null,
            "margin": null,
            "max_height": null,
            "max_width": null,
            "min_height": null,
            "min_width": null,
            "object_fit": null,
            "object_position": null,
            "order": null,
            "overflow": null,
            "overflow_x": null,
            "overflow_y": null,
            "padding": null,
            "right": null,
            "top": null,
            "visibility": null,
            "width": null
          }
        },
        "3172efe4593045958f93191e5b802adb": {
          "model_module": "@jupyter-widgets/controls",
          "model_name": "DescriptionStyleModel",
          "model_module_version": "1.5.0",
          "state": {
            "_model_module": "@jupyter-widgets/controls",
            "_model_module_version": "1.5.0",
            "_model_name": "DescriptionStyleModel",
            "_view_count": null,
            "_view_module": "@jupyter-widgets/base",
            "_view_module_version": "1.2.0",
            "_view_name": "StyleView",
            "description_width": ""
          }
        },
        "69edc0d7de0f45819be575e5c7f38f57": {
          "model_module": "@jupyter-widgets/base",
          "model_name": "LayoutModel",
          "model_module_version": "1.2.0",
          "state": {
            "_model_module": "@jupyter-widgets/base",
            "_model_module_version": "1.2.0",
            "_model_name": "LayoutModel",
            "_view_count": null,
            "_view_module": "@jupyter-widgets/base",
            "_view_module_version": "1.2.0",
            "_view_name": "LayoutView",
            "align_content": null,
            "align_items": null,
            "align_self": null,
            "border": null,
            "bottom": null,
            "display": null,
            "flex": null,
            "flex_flow": null,
            "grid_area": null,
            "grid_auto_columns": null,
            "grid_auto_flow": null,
            "grid_auto_rows": null,
            "grid_column": null,
            "grid_gap": null,
            "grid_row": null,
            "grid_template_areas": null,
            "grid_template_columns": null,
            "grid_template_rows": null,
            "height": null,
            "justify_content": null,
            "justify_items": null,
            "left": null,
            "margin": null,
            "max_height": null,
            "max_width": null,
            "min_height": null,
            "min_width": null,
            "object_fit": null,
            "object_position": null,
            "order": null,
            "overflow": null,
            "overflow_x": null,
            "overflow_y": null,
            "padding": null,
            "right": null,
            "top": null,
            "visibility": null,
            "width": null
          }
        },
        "a6c764b20d7d4cb4967699ab694ee19b": {
          "model_module": "@jupyter-widgets/controls",
          "model_name": "ProgressStyleModel",
          "model_module_version": "1.5.0",
          "state": {
            "_model_module": "@jupyter-widgets/controls",
            "_model_module_version": "1.5.0",
            "_model_name": "ProgressStyleModel",
            "_view_count": null,
            "_view_module": "@jupyter-widgets/base",
            "_view_module_version": "1.2.0",
            "_view_name": "StyleView",
            "bar_color": null,
            "description_width": ""
          }
        },
        "5614563c1ae64adbabbbcc0585717ff1": {
          "model_module": "@jupyter-widgets/base",
          "model_name": "LayoutModel",
          "model_module_version": "1.2.0",
          "state": {
            "_model_module": "@jupyter-widgets/base",
            "_model_module_version": "1.2.0",
            "_model_name": "LayoutModel",
            "_view_count": null,
            "_view_module": "@jupyter-widgets/base",
            "_view_module_version": "1.2.0",
            "_view_name": "LayoutView",
            "align_content": null,
            "align_items": null,
            "align_self": null,
            "border": null,
            "bottom": null,
            "display": null,
            "flex": null,
            "flex_flow": null,
            "grid_area": null,
            "grid_auto_columns": null,
            "grid_auto_flow": null,
            "grid_auto_rows": null,
            "grid_column": null,
            "grid_gap": null,
            "grid_row": null,
            "grid_template_areas": null,
            "grid_template_columns": null,
            "grid_template_rows": null,
            "height": null,
            "justify_content": null,
            "justify_items": null,
            "left": null,
            "margin": null,
            "max_height": null,
            "max_width": null,
            "min_height": null,
            "min_width": null,
            "object_fit": null,
            "object_position": null,
            "order": null,
            "overflow": null,
            "overflow_x": null,
            "overflow_y": null,
            "padding": null,
            "right": null,
            "top": null,
            "visibility": null,
            "width": null
          }
        },
        "adb3656755ae4e78a13fdb19684b4313": {
          "model_module": "@jupyter-widgets/controls",
          "model_name": "DescriptionStyleModel",
          "model_module_version": "1.5.0",
          "state": {
            "_model_module": "@jupyter-widgets/controls",
            "_model_module_version": "1.5.0",
            "_model_name": "DescriptionStyleModel",
            "_view_count": null,
            "_view_module": "@jupyter-widgets/base",
            "_view_module_version": "1.2.0",
            "_view_name": "StyleView",
            "description_width": ""
          }
        }
      }
    }
  },
  "cells": [
    {
      "cell_type": "markdown",
      "metadata": {
        "id": "view-in-github",
        "colab_type": "text"
      },
      "source": [
        "<a href=\"https://colab.research.google.com/github/alexkamene/Alekih96/blob/main/learning_nlp_basics.ipynb\" target=\"_parent\"><img src=\"https://colab.research.google.com/assets/colab-badge.svg\" alt=\"Open In Colab\"/></a>"
      ]
    },
    {
      "cell_type": "code",
      "execution_count": null,
      "metadata": {
        "colab": {
          "base_uri": "https://localhost:8080/"
        },
        "id": "6CLJ2bhaWgN0",
        "outputId": "2ea2b5ea-a752-49ba-c265-6355d48db9e2"
      },
      "outputs": [
        {
          "output_type": "stream",
          "name": "stdout",
          "text": [
            "    Python 3.0, released in 2008, was a major revision of the language that is not completely backward compatible and much Python 2 code does not run unmodified on Python 3. With Python 2's end-of-life, only Python 3.6.x[30] and later are supported, with older versions still supporting e.g. Windows 7 (and old installers not restricted to 64-bit Windows).\n"
          ]
        }
      ],
      "source": [
        "# input string\n",
        "string = \"    Python 3.0, released in 2008, was a major revision of the language that is not completely backward compatible and much Python 2 code does not run unmodified on Python 3. With Python 2's end-of-life, only Python 3.6.x[30] and later are supported, with older versions still supporting e.g. Windows 7 (and old installers not restricted to 64-bit Windows).\"\n",
        "print(string)"
      ]
    },
    {
      "cell_type": "markdown",
      "source": [
        "### **Normalization**"
      ],
      "metadata": {
        "id": "QEcL-1MLgojq"
      }
    },
    {
      "cell_type": "code",
      "source": [],
      "metadata": {
        "id": "leaNvmBEgmDa"
      },
      "execution_count": null,
      "outputs": []
    },
    {
      "cell_type": "code",
      "source": [
        "# conert the string to lower case\n",
        "lower_case=string.lower()\n",
        "print(lower_case)"
      ],
      "metadata": {
        "colab": {
          "base_uri": "https://localhost:8080/"
        },
        "id": "TBSljzlqaCdy",
        "outputId": "d34f9ffd-e828-4245-ce9b-3c04baf38886"
      },
      "execution_count": null,
      "outputs": [
        {
          "output_type": "stream",
          "name": "stdout",
          "text": [
            "    python 3.0, released in 2008, was a major revision of the language that is not completely backward compatible and much python 2 code does not run unmodified on python 3. with python 2's end-of-life, only python 3.6.x[30] and later are supported, with older versions still supporting e.g. windows 7 (and old installers not restricted to 64-bit windows).\n"
          ]
        }
      ]
    },
    {
      "cell_type": "code",
      "source": [
        "# remove numbers in the string\n",
        "import re\n",
        "no_num=re.sub(r'\\d+','',lower_case)\n",
        "print(no_num)"
      ],
      "metadata": {
        "colab": {
          "base_uri": "https://localhost:8080/"
        },
        "id": "pZrbj7dSaO29",
        "outputId": "76fd7aa4-ce3a-4093-9843-6565e05b4add"
      },
      "execution_count": null,
      "outputs": [
        {
          "output_type": "stream",
          "name": "stdout",
          "text": [
            "    python ., released in , was a major revision of the language that is not completely backward compatible and much python  code does not run unmodified on python . with python 's end-of-life, only python ..x[] and later are supported, with older versions still supporting e.g. windows  (and old installers not restricted to -bit windows).\n"
          ]
        }
      ]
    },
    {
      "cell_type": "markdown",
      "source": [
        "**r'\\d+':** This is the regular expression pattern being used.\n",
        "\n",
        "**r **at the beginning indicates a raw string, which is often useful for regular expressions to avoid issues with backslashes.\n",
        "\n",
        "**\\d+:** *This part of the pattern matches one or more digits.*\n",
        "\n",
        "**' '**: *This is the replacement string. In this case, it's an empty string, meaning that any matched digits will be removed*.\n",
        "\n",
        "**lower_case**: *This is the input string where the pattern will be searched for and replaced*."
      ],
      "metadata": {
        "id": "3pm40VStbveX"
      }
    },
    {
      "cell_type": "code",
      "source": [
        "# remove punctuation\n",
        "import re\n",
        "no_punc=re.sub(r'[^\\w\\s]','',no_num)\n",
        "print(no_punc)"
      ],
      "metadata": {
        "colab": {
          "base_uri": "https://localhost:8080/"
        },
        "id": "rsL3EDenbOEl",
        "outputId": "e565b700-e7c5-46dd-e4b8-a5e102e9ce8c"
      },
      "execution_count": null,
      "outputs": [
        {
          "output_type": "stream",
          "name": "stdout",
          "text": [
            "    python  released in  was a major revision of the language that is not completely backward compatible and much python  code does not run unmodified on python  with python s endoflife only python x and later are supported with older versions still supporting eg windows  and old installers not restricted to bit windows\n"
          ]
        }
      ]
    },
    {
      "cell_type": "markdown",
      "source": [
        "**r'[^\\w\\s]'**: *This is the regular expression pattern.*\n",
        "r indicates a raw string.\n",
        "\n",
        "**[...]:** *This is a character set, meaning it will match any single character within the brackets.*\n",
        "\n",
        "**^:** When used at the beginning of a character set, it negates the set. This means it will match any character that is not in the set.\n",
        "\n",
        "**\\w:** This is a special sequence that matches any \"word\" character (letters, numbers, and the underscore).\n",
        "\n",
        "**\\s:** This is a special sequence that matches any \"whitespace\" character (spaces, tabs, newlines, etc.).\n",
        "So, [^\\w\\s] means \"match any character that is not a word character and not a whitespace character.\" In other words, it matches punctuation and other special symbols.\n",
        "\n",
        "**' ':** This is the replacement string (an empty string), so any matched punctuation or symbols will be removed.\n",
        "no_num: This is the input string, which is the string from the previous step (without numbers).\n",
        "\n"
      ],
      "metadata": {
        "id": "SUPLOXd_cc_J"
      }
    },
    {
      "cell_type": "code",
      "source": [
        "# removing whte space\n",
        "no_space=no_punc.strip()\n",
        "print(no_space)"
      ],
      "metadata": {
        "colab": {
          "base_uri": "https://localhost:8080/"
        },
        "id": "CTlWruftcb1B",
        "outputId": "484c21b1-964c-490e-f13f-f9c8c54aedaa"
      },
      "execution_count": null,
      "outputs": [
        {
          "output_type": "stream",
          "name": "stdout",
          "text": [
            "python  released in  was a major revision of the language that is not completely backward compatible and much python  code does not run unmodified on python  with python s endoflife only python x and later are supported with older versions still supporting eg windows  and old installers not restricted to bit windows\n"
          ]
        }
      ]
    },
    {
      "cell_type": "code",
      "source": [
        "# remove stop word eg is,all,the\n",
        "# import nltk tool\n",
        "import nltk\n",
        "nltk.download('stopwords')\n",
        "from nltk.corpus import stopwords\n",
        "stop_words=set(stopwords.words('english'))\n",
        "print(stop_words)\n",
        "\n",
        "# convert string to list of words\n",
        "lst_string = [no_space][0].split()\n",
        "print(lst_string)\n",
        "# remove stopwords\n",
        "no_stpwords_string=\"\"\n",
        "for i in lst_string:\n",
        "    if not i in stop_words:\n",
        "        no_stpwords_string += i+' '\n",
        "\n",
        "\n",
        "# removing last space\n",
        "no_stpwords_string = no_stpwords_string[:-1]\n",
        "print(no_stpwords_string)"
      ],
      "metadata": {
        "colab": {
          "base_uri": "https://localhost:8080/"
        },
        "id": "IsdMCi4UeXrl",
        "outputId": "a0a18957-980a-4ba5-d85a-e0e8144c7b24"
      },
      "execution_count": null,
      "outputs": [
        {
          "output_type": "stream",
          "name": "stdout",
          "text": [
            "{\"mightn't\", 'from', 'while', 'more', 'same', \"that'll\", \"we've\", \"she's\", 'if', 'it', 'are', 'some', 'here', 'doesn', 'them', 'how', 'd', 'up', \"you'd\", 'been', 'shouldn', 'be', 'is', \"he'll\", 'which', 'we', \"i'd\", 'myself', 'haven', \"it's\", 'too', \"hasn't\", 'weren', \"she'll\", 'to', 'because', 'her', 'against', 'theirs', 'just', 'in', 'does', \"shouldn't\", 'i', 'ain', 'than', 'that', 'where', 'you', 'there', 'has', 've', \"i'm\", 'hasn', 'couldn', 'will', \"he's\", 'me', \"shan't\", 'ourselves', 'she', 'at', 'don', 'ma', 's', 'nor', 'y', 'own', 'his', 'do', 'down', 'few', 'doing', 'wasn', 'isn', 'have', \"hadn't\", 'yourself', 'who', 'out', 'having', 'above', \"he'd\", 'yourselves', 'needn', 'between', 'this', \"they'd\", 'being', \"didn't\", 'a', 'shan', 'and', 'on', 'won', \"they'll\", \"it'd\", \"you've\", 'through', 'during', 'our', \"wasn't\", 'these', 'those', 'under', 'very', \"should've\", 'didn', 'ours', 'were', \"she'd\", 'aren', 'before', 'only', 'they', \"we're\", 'about', 'hers', 'wouldn', 're', 'herself', 'their', 'over', 'then', 'now', 'o', 'whom', 'when', 'did', 't', 'but', \"don't\", 'both', 'all', 'into', \"they've\", 'an', 'him', 'he', 'once', \"we'll\", \"i'll\", \"you'll\", 'why', \"couldn't\", 'mightn', 'by', \"it'll\", 'most', 'should', 'was', 'your', 'or', 'can', \"we'd\", 'further', \"they're\", 'what', 'for', 'no', 'off', \"haven't\", 'mustn', 'until', 'am', 'below', 'so', \"you're\", 'again', 'm', 'yours', 'with', 'had', 'the', \"weren't\", 'after', 'as', \"wouldn't\", 'its', 'other', 'll', \"mustn't\", 'such', 'of', 'themselves', 'not', 'each', 'itself', 'my', 'any', \"aren't\", 'himself', \"needn't\", 'hadn', \"doesn't\", \"isn't\", \"i've\", \"won't\"}\n",
            "['python', 'released', 'in', 'was', 'a', 'major', 'revision', 'of', 'the', 'language', 'that', 'is', 'not', 'completely', 'backward', 'compatible', 'and', 'much', 'python', 'code', 'does', 'not', 'run', 'unmodified', 'on', 'python', 'with', 'python', 's', 'endoflife', 'only', 'python', 'x', 'and', 'later', 'are', 'supported', 'with', 'older', 'versions', 'still', 'supporting', 'eg', 'windows', 'and', 'old', 'installers', 'not', 'restricted', 'to', 'bit', 'windows']\n",
            "python released major revision language completely backward compatible much python code run unmodified python python endoflife python x later supported older versions still supporting eg windows old installers restricted bit windows\n"
          ]
        },
        {
          "output_type": "stream",
          "name": "stderr",
          "text": [
            "[nltk_data] Downloading package stopwords to /root/nltk_data...\n",
            "[nltk_data]   Package stopwords is already up-to-date!\n"
          ]
        }
      ]
    },
    {
      "cell_type": "markdown",
      "source": [
        "# **tokenization**\n",
        "Tokenization is a fundamental process in Natural Language Processing (NLP) that involves breaking down a stream of text into smaller units called tokens.\n",
        "eg\n",
        "`[\"Chatbots\", \"are\", \"helpful\"]`\n",
        "\n",
        "tokenized\n",
        "\n",
        "`[\"C\", \"h\", \"a\", \"t\", \"b\", \"o\", \"t\", \"s\", \" \", \"a\", \"r\", \"e\", \" \", \"h\", \"e\", \"l\", \"p\", \"f\", \"u\", \"l\"]`\n",
        "\n",
        "Types of Tokenization\n",
        "\n",
        "1. word tokenization eg , `[\"Machine\", \"learning\", \"is\", \"fascinating\"]`\n",
        "2.  character tokenization eg.`[\"N\", \"L\", \"P\"]`\n",
        "3.Subword Tokenization eg.`[\"Chat\", \"bots\"]`\n",
        "\n",
        "\n",
        "\n",
        "\n",
        "\n",
        "\n"
      ],
      "metadata": {
        "id": "e-er0v0chAXZ"
      }
    },
    {
      "cell_type": "markdown",
      "source": [
        "# **Lemmatization**\n",
        "\n",
        "**Lemmatization** is the process of grouping together the different inflected forms of a word so they can be analyzed as a single item. Lemmatization is similar to stemming but it brings context to the words. So, it links words with similar meanings to one word.\n",
        "\n",
        "Examples of lemmatization:\n",
        "\n",
        "\n",
        "\n",
        "\n",
        "```\n",
        "rocks : rock\n",
        "corpora : corpus\n",
        "better : good\n",
        "```\n",
        "\n",
        "\n",
        "\n",
        "Lemmatization Techniques\n",
        "\n",
        "\n",
        "1.   Rule Based Lemmatization-involves the application of predefined rules to derive the base or root form of a word eg\n",
        "Here's a simplified example of rule-based lemmatization for English verbs:\n",
        "\n",
        "Rule: For regular verbs ending in \"-ed,\" remove the \"-ed\" suffix.\n",
        "\n",
        "\n",
        "\n",
        "```\n",
        "Example:\n",
        "\n",
        "Word: \"walked\"\n",
        "Rule Application:\n",
        "Remove \"-ed\"\n",
        "\n",
        "Result: \"walk\"\n",
        "```\n",
        "\n",
        "\n",
        "\n",
        "\n",
        "2.  **Dictionary-based lemmatization **relies on predefined dictionaries or lookup tables to map words to their corresponding base forms or lemmas.\n",
        "\n",
        "\n",
        "```\n",
        "Suppose we have a dictionary with lemmatized forms for some words:\n",
        "\n",
        "'running' -> 'run'\n",
        "'better' -> 'good'\n",
        "'went' -> 'go'\n",
        "```\n",
        "\n",
        "3.*Machine learning-based* lemmatization leverages computational models to automatically learn the relationships between words and their base forms\n",
        "\n",
        "\n",
        "```\n",
        "Consider a machine learning-based lemmatizer trained on diverse texts. When encountering the word 'went,' the model, having learned patterns, predicts the base form as 'go.' Similarly, for 'happier,' the model deduces 'happy' as the lemma. The advantage lies in the model's ability to adapt to varied linguistic nuances and handle irregularities, making it robust for lemmatizing diverse vocabularies.\n",
        "```\n",
        "\n",
        "\n",
        "\n",
        "\n",
        "\n"
      ],
      "metadata": {
        "id": "5TbTtuG7irP-"
      }
    },
    {
      "cell_type": "markdown",
      "source": [
        "**Implementation of Lemmatization using nltk**"
      ],
      "metadata": {
        "id": "fYA6XPtLmAeX"
      }
    },
    {
      "cell_type": "code",
      "source": [
        "# Implementation of Lemmatization\n",
        "\n",
        "# import these modules\n",
        "import nltk\n",
        "nltk.download('wordnet') # Download the wordnet corpus\n",
        "\n",
        "from nltk.stem import WordNetLemmatizer\n",
        "\n",
        "lemmatizer = WordNetLemmatizer()\n",
        "\n",
        "print(\"rocks :\", lemmatizer.lemmatize(\"rocks\"))\n",
        "print(\"corpora :\", lemmatizer.lemmatize(\"corpora\"))\n",
        "\n",
        "# a denotes adjective in \"pos\"\n",
        "print(\"better :\", lemmatizer.lemmatize(\"better\", pos=\"a\"))"
      ],
      "metadata": {
        "colab": {
          "base_uri": "https://localhost:8080/"
        },
        "id": "qYDlIAdRhYkf",
        "outputId": "65724d21-c3fb-436e-8e5c-a17fe89ec390"
      },
      "execution_count": null,
      "outputs": [
        {
          "output_type": "stream",
          "name": "stderr",
          "text": [
            "[nltk_data] Downloading package wordnet to /root/nltk_data...\n",
            "[nltk_data]   Package wordnet is already up-to-date!\n"
          ]
        },
        {
          "output_type": "stream",
          "name": "stdout",
          "text": [
            "rocks : rock\n",
            "corpora : corpus\n",
            "better : good\n"
          ]
        }
      ]
    },
    {
      "cell_type": "markdown",
      "source": [
        "**Spacy**"
      ],
      "metadata": {
        "id": "3OYtKcp8mGLJ"
      }
    },
    {
      "cell_type": "code",
      "source": [
        "import spacy\n",
        "\n",
        "# Load the spaCy English model\n",
        "nlp = spacy.load('en_core_web_sm')\n",
        "\n",
        "# Define a sample text\n",
        "text = \"The quick brown foxes are jumping over the lazy dogs.\"\n",
        "\n",
        "# Process the text using spaCy\n",
        "doc = nlp(text)\n",
        "\n",
        "# Extract lemmatized tokens\n",
        "lemmatized_tokens = [token.lemma_ for token in doc]\n",
        "\n",
        "# Join the lemmatized tokens into a sentence\n",
        "lemmatized_text = ' '.join(lemmatized_tokens)\n",
        "\n",
        "# Print the original and lemmatized text\n",
        "print(\"Original Text:\", text)\n",
        "print(\"Lemmatized Text:\", lemmatized_text)"
      ],
      "metadata": {
        "colab": {
          "base_uri": "https://localhost:8080/"
        },
        "id": "Y10vMF23mJbO",
        "outputId": "79929193-a0b7-4b81-cd8e-d9477f1a097a"
      },
      "execution_count": null,
      "outputs": [
        {
          "output_type": "stream",
          "name": "stdout",
          "text": [
            "Original Text: The quick brown foxes are jumping over the lazy dogs.\n",
            "Lemmatized Text: the quick brown fox be jump over the lazy dog .\n"
          ]
        }
      ]
    },
    {
      "cell_type": "code",
      "source": [],
      "metadata": {
        "id": "3xz9UUU8mWaX"
      },
      "execution_count": null,
      "outputs": []
    },
    {
      "cell_type": "markdown",
      "source": [
        "\n",
        "\n",
        "```\n",
        "Advantages of Lemmatization with NLTK\n",
        "Improves text analysis accuracy.\n",
        "Reduces data size\n",
        "Better search results\n",
        "**disadvantages **\n",
        "Time-consuming\n",
        "May lead to ambiguity\n",
        "May lead to ambiguity\n",
        "\n",
        "\n",
        "\n"
      ],
      "metadata": {
        "id": "wWpuIX9CmW0l"
      }
    },
    {
      "cell_type": "code",
      "source": [],
      "metadata": {
        "id": "e4A2_7A8m6p3"
      },
      "execution_count": null,
      "outputs": []
    },
    {
      "cell_type": "markdown",
      "source": [
        "# **stemming**\n",
        "Stemming is a method in text processing that eliminates prefixes and suffixes from words, transforming them into their fundamental or root form\n",
        "eg\n",
        "\n",
        "\n",
        "```\n",
        "For example, \"chocolates\" becomes \"chocolate\" and \"retrieval\" becomes \"retrieve.\"\n",
        "```\n",
        "Types of Stemmer in NLTK\n",
        "\n",
        "\n",
        "1.  Porter's Stemmer-It is based on the idea that the suffixes in the English language are made up of a combination of smaller and simpler suffixes\n",
        "\n",
        "\n",
        "```\n",
        "Example:\n",
        "EED -> EE means “if the word has at least one vowel and consonant plus\n",
        "\n",
        "EED ending, change the ending to EE” as 'agreed' becomes 'agree'.\n",
        "```\n"
      ],
      "metadata": {
        "id": "oE8gvdPqnJql"
      }
    },
    {
      "cell_type": "code",
      "source": [
        "# Implementation of Porter Stemmer\n",
        "from nltk.stem import PorterStemmer\n",
        "\n",
        "# Create a Porter Stemmer instance\n",
        "porter_stemmer = PorterStemmer()\n",
        "\n",
        "# Example words for stemming\n",
        "words = [\"running\", \"jumps\", \"happily\", \"running\", \"happily\"]\n",
        "\n",
        "# Apply stemming to each word\n",
        "stemmed_words = [porter_stemmer.stem(word) for word in words]\n",
        "\n",
        "# Print the results\n",
        "print(\"Original words:\", words)\n",
        "print(\"Stemmed words:\", stemmed_words)"
      ],
      "metadata": {
        "colab": {
          "base_uri": "https://localhost:8080/"
        },
        "id": "70QIF5GLoQ6u",
        "outputId": "51e61090-c61d-445e-d15d-64d6b40347ba"
      },
      "execution_count": null,
      "outputs": [
        {
          "output_type": "stream",
          "name": "stdout",
          "text": [
            "Original words: ['running', 'jumps', 'happily', 'running', 'happily']\n",
            "Stemmed words: ['run', 'jump', 'happili', 'run', 'happili']\n"
          ]
        }
      ]
    },
    {
      "cell_type": "markdown",
      "source": [
        "2**.Snowball Stemmer**\n",
        " is multi-lingual as it can handle non-English words. It supports various languages and is based on the 'Snowball' programming language, known for efficient processing of small strings.\n",
        "\n",
        "\n",
        " 3.and many others\n",
        "\n"
      ],
      "metadata": {
        "id": "cZ5jj3iGoh5D"
      }
    },
    {
      "cell_type": "code",
      "source": [
        "from nltk.stem import SnowballStemmer\n",
        "\n",
        "# Choose a language for stemming, for example, English\n",
        "stemmer = SnowballStemmer(language='english')\n",
        "\n",
        "# Example words to stem\n",
        "words_to_stem = ['running', 'jumped', 'happily', 'quickly', 'foxes']\n",
        "\n",
        "# Apply Snowball Stemmer\n",
        "stemmed_words = [stemmer.stem(word) for word in words_to_stem]\n",
        "\n",
        "# Print the results\n",
        "print(\"Original words:\", words_to_stem)\n",
        "print(\"Stemmed words:\", stemmed_words)"
      ],
      "metadata": {
        "colab": {
          "base_uri": "https://localhost:8080/"
        },
        "id": "bBeiTiCqorbr",
        "outputId": "850f1d78-5d18-4e3b-f374-b428e185fe51"
      },
      "execution_count": null,
      "outputs": [
        {
          "output_type": "stream",
          "name": "stdout",
          "text": [
            "Original words: ['running', 'jumped', 'happily', 'quickly', 'foxes']\n",
            "Stemmed words: ['run', 'jump', 'happili', 'quick', 'fox']\n"
          ]
        }
      ]
    },
    {
      "cell_type": "markdown",
      "source": [
        "**Applications of Stemming**\n",
        "\n",
        "Stemming is used in information retrieval systems like search engines.\n",
        "\n",
        "It is used to determine domain vocabularies in domain analysis.\n",
        "To display search results by indexing while documents are evolving into numbers and to map documents to common subjects by stemming.\n",
        "\n",
        "Sentiment Analysis, which examines reviews and comments made by different users about anything, is frequently used for product analysis, such as for online\n",
        "\n",
        "retail stores. Before it is interpreted, stemming is accepted in the form of the text-preparation mean.\n",
        "\n",
        "\n",
        "\n"
      ],
      "metadata": {
        "id": "ZB-0Fb4ipdPJ"
      }
    },
    {
      "cell_type": "code",
      "source": [],
      "metadata": {
        "id": "VtlyHBunp6bh"
      },
      "execution_count": null,
      "outputs": []
    },
    {
      "cell_type": "markdown",
      "source": [
        "#  POS(Parts-Of-Speech) Tagging?\n",
        "is a linguistic activity in Natural Language Processing (NLP) wherein each word in a document is given a particular part of speech (adverb, adjective, verb, etc.)\n",
        "\n",
        "\n",
        "```\n",
        "Example of POS Tagging\n",
        "\n",
        "Consider the sentence: \"The quick brown fox jumps over the lazy dog.\"\n",
        "\n",
        "After performing POS Tagging:\n",
        "\n",
        "\"The\" is tagged as determiner (DT)\n",
        "\"quick\" is tagged as adjective (JJ)\n",
        "\"brown\" is tagged as adjective (JJ)\n",
        "\"fox\" is tagged as noun (NN)\n",
        "\"jumps\" is tagged as verb (VBZ)\n",
        "\"over\" is tagged as preposition (IN)\n",
        "\"the\" is tagged as determiner (DT)\n",
        "\"lazy\" is tagged as adjective (JJ)\n",
        "\"dog\" is tagged as noun (NN)\n",
        "```\n",
        "\n",
        "\n"
      ],
      "metadata": {
        "id": "iMoDtPdgq7Aw"
      }
    },
    {
      "cell_type": "code",
      "source": [
        "# implementing tagging using nltk\n",
        "import nltk\n",
        "nltk.download('punkt')\n",
        "nltk.download('averaged_perceptron_tagger')\n",
        "nltk.download('averaged_perceptron_tagger_eng') # Download the specific English tagger\n",
        "\n",
        "# Importing the NLTK library\n",
        "from nltk.tokenize import word_tokenize\n",
        "from nltk import pos_tag\n",
        "\n",
        "# Sample text\n",
        "text = \"NLTK is a powerful library for natural language processing.\"\n",
        "\n",
        "# Performing PoS tagging\n",
        "pos_tags = pos_tag(words)\n",
        "\n",
        "# Displaying the PoS tagged result in separate lines\n",
        "print(\"Original Text:\")\n",
        "print(text)\n",
        "\n",
        "print(\"\\nPoS Tagging Result:\")\n",
        "for word, pos_tag in pos_tags:\n",
        "    print(f\"{word}: {pos_tag}\")"
      ],
      "metadata": {
        "colab": {
          "base_uri": "https://localhost:8080/"
        },
        "id": "pSxSdtmWr51O",
        "outputId": "241f0a01-8818-4f26-f090-6fdea2a0bcb4"
      },
      "execution_count": null,
      "outputs": [
        {
          "output_type": "stream",
          "name": "stderr",
          "text": [
            "[nltk_data] Downloading package punkt to /root/nltk_data...\n",
            "[nltk_data]   Package punkt is already up-to-date!\n",
            "[nltk_data] Downloading package averaged_perceptron_tagger to\n",
            "[nltk_data]     /root/nltk_data...\n",
            "[nltk_data]   Package averaged_perceptron_tagger is already up-to-\n",
            "[nltk_data]       date!\n",
            "[nltk_data] Downloading package averaged_perceptron_tagger_eng to\n",
            "[nltk_data]     /root/nltk_data...\n",
            "[nltk_data]   Unzipping taggers/averaged_perceptron_tagger_eng.zip.\n"
          ]
        },
        {
          "output_type": "stream",
          "name": "stdout",
          "text": [
            "Original Text:\n",
            "NLTK is a powerful library for natural language processing.\n",
            "\n",
            "PoS Tagging Result:\n",
            "running: VBG\n",
            "jumps: NNS\n",
            "happily: RB\n",
            "running: VBG\n",
            "happily: RB\n"
          ]
        }
      ]
    },
    {
      "cell_type": "markdown",
      "source": [
        "*Types of POS Tagging in NLP**\n",
        "\n",
        "\n",
        "1.    Rule-Based Tagging-art-of-speech (POS) tagging involves assigning words their respective parts of speech using predetermined rules, contrasting with machine learning-based POS tagging that requires training on annotated text corpora\n",
        "\n",
        "\n",
        "```\n",
        "Rule: Assign the POS tag \"noun\" to words ending in \"-tion\" or \"-ment.\"\n",
        "\n",
        "Text: \"The presentation highlighted the key achievements of the project's development.\"\n",
        "\n",
        "Rule based Tags:\n",
        "\n",
        "\"The\" - Determiner (DET)\n",
        "\"presentation\" - Noun (N)\n",
        "\"highlighted\" - Verb (V)\n",
        "\"the\" - Determiner (DET)\n",
        "\"key\" - Adjective (ADJ)\n",
        "\"achievements\" - Noun (N)\n",
        "\"of\" - Preposition (PREP)\n",
        "\"the\" - Determiner (DET)\n",
        "\"project's\" - Noun (N)\n",
        "\"development\" - Noun (N)\n",
        "\n",
        "```\n",
        "\n",
        "\n",
        "\n",
        "2.   Transformation Based tagging-(TBT) is a part-of-speech (POS) tagging method that uses a set of rules to change the tags that are applied to words inside a text\n",
        "\n",
        "\n",
        "```\n",
        "eg\n",
        "\n",
        "Text: \"The cat chased the mouse\".\n",
        "\n",
        "Initial Tags:\n",
        "\n",
        "\"The\" - Determiner (DET)\n",
        "\"cat\" - Noun (N)\n",
        "\"chased\" - Verb (V)\n",
        "\"the\" - Determiner (DET)\n",
        "\"mouse\" - Noun (N)\n",
        "Transformation rule applied:\n",
        "\n",
        "Change the tag of \"chased\" from Verb (V) to Noun (N) because it follows the determiner \"the.\"\n",
        "\n",
        "Updated tags:\n",
        "\n",
        "\"The\" - Determiner (DET)\n",
        "\"cat\" - Noun (N)\n",
        "\"chased\" - Noun (N)\n",
        "\"the\" - Determiner (DET)\n",
        "\"mouse\" - Noun (N)\n",
        "```\n",
        "\n",
        "\n",
        "\n",
        "\n",
        "\n"
      ],
      "metadata": {
        "id": "D3rOnEkesUvU"
      }
    },
    {
      "cell_type": "code",
      "source": [],
      "metadata": {
        "id": "xLUyszj8tIUL"
      },
      "execution_count": null,
      "outputs": []
    },
    {
      "cell_type": "markdown",
      "source": [
        "# ***Text Representation or Text Embedding Techniques in NLP***\n",
        "\n",
        "Text Embedding Techniques refer to the methods and models used to create these vector representations, including traditional methods (like TFIDF and BOW) and more advanced approaches\n",
        "1. Word Embedding\n",
        "\n",
        "Word2Vec (SkipGram, Continuous Bag of Words - CBOW)\n",
        "GloVe (Global Vectors for Word Representation)\n",
        "fastText\n",
        "2. Pre-Trained Embedding\n",
        "\n",
        "ELMo (Embeddings from Language Models)\n",
        "BERT (Bidirectional Encoder Representations from Transformers)\n",
        "3. Document Embedding - Doc2Vec\n",
        "\n",
        "Deep Learning Techniques for NLP\n",
        "Deep learning has revolutionized Natural Language Processing (NLP) by enabling models to automatically learn complex patterns and representations from raw text. Below are some of the key deep learning techniques used in NLP:\n",
        "\n",
        "Artificial Neural Networks (ANNs)\n",
        "Recurrent Neural Networks (RNNs)\n",
        "\n",
        "Long Short-Term Memory (LSTM)\n",
        "Gated Recurrent Unit (GRU)\n",
        "Seq2Seq Models\n",
        "Transformer Models\n",
        "\n",
        "**Pre-Trained Language Models**\n",
        "\n",
        "Pre-trained models understand language patterns, context and semantics. The provided models are trained on massive corpora and can be fine tuned for specific tasks.\n",
        "\n",
        "GPT (Generative Pre-trained Transformer)\n",
        "Transformers XL\n",
        "T5 (Text-to-Text Transfer Transformer)\n",
        "RoBERTa"
      ],
      "metadata": {
        "id": "fJjMC-Z-ttMi"
      }
    },
    {
      "cell_type": "markdown",
      "source": [
        "*One Hot Encoding in Machine Learning*\n",
        "\n",
        "One Hot Encoding is a method for converting categorical variables into a binary format. It creates new columns for each category where 1 means the category is present and 0 means it is not\n",
        "Fruit\tCategorical value of fruit\tPrice\n",
        "\n",
        "Fruit\tCategorical value of fruit\tPrice\n",
        "apple\t1\t5\n",
        "\n",
        "mango\t 2\t10\n",
        "\n",
        "apple\t 1\t15\n",
        "\n",
        "orange   3\t20\n",
        "\n",
        "Fruit_apple,\tFruit_mango,\tFruit_orange\t,price\n",
        "\n",
        "      1   \t0\t    0\t   5\n",
        "\n",
        "      0\t   1\t    0\t   10\n",
        "\n",
        "      1   \t0     \t0   \t15\n",
        "\n",
        "      0   \t0\t     1\t   20"
      ],
      "metadata": {
        "id": "Ejc34k4Ou2fm"
      }
    },
    {
      "cell_type": "code",
      "source": [
        "# Implementing One-Hot Encoding Using Python\n",
        "import pandas as pd\n",
        "from sklearn.preprocessing import OneHotEncoder\n",
        "\n",
        "data = {\n",
        "    'Employee id': [10, 20, 15, 25, 30],\n",
        "    'Gender': ['M', 'F', 'F', 'M', 'F'],\n",
        "    'Remarks': ['Good', 'Nice', 'Good', 'Great', 'Nice']\n",
        "}\n",
        "\n",
        "df = pd.DataFrame(data)\n",
        "print(f\"Original Employee Data:\\n{df}\\n\")\n",
        "# Use pd.get_dummies() to one-hot encode the categorical columns\n",
        "df_pandas_encoded = pd.get_dummies(df, columns=['Gender', 'Remarks'], drop_first=True)\n",
        "print(f\"One-Hot Encoded Data using Pandas:\\n{df_pandas_encoded}\\n\")\n",
        "\n",
        "encoder = OneHotEncoder(sparse_output=False)\n",
        "\n",
        "one_hot_encoded = encoder.fit_transform(df[categorical_columns])\n",
        "\n",
        "one_hot_df = pd.DataFrame(one_hot_encoded,\n",
        "                          columns=encoder.get_feature_names_out(categorical_columns))\n",
        "\n",
        "df_sklearn_encoded = pd.concat([df.drop(categorical_columns, axis=1), one_hot_df], axis=1)\n",
        "\n",
        "print(f\"One-Hot Encoded Data using Scikit-Learn:\\n{df_sklearn_encoded}\\n\")"
      ],
      "metadata": {
        "colab": {
          "base_uri": "https://localhost:8080/",
          "height": 488
        },
        "id": "y1LyGgywumpE",
        "outputId": "bcea3ec5-d83e-4995-c720-2f499fc43615"
      },
      "execution_count": null,
      "outputs": [
        {
          "output_type": "stream",
          "name": "stdout",
          "text": [
            "Original Employee Data:\n",
            "   Employee id Gender Remarks\n",
            "0           10      M    Good\n",
            "1           20      F    Nice\n",
            "2           15      F    Good\n",
            "3           25      M   Great\n",
            "4           30      F    Nice\n",
            "\n",
            "One-Hot Encoded Data using Pandas:\n",
            "   Employee id  Gender_M  Remarks_Great  Remarks_Nice\n",
            "0           10      True          False         False\n",
            "1           20     False          False          True\n",
            "2           15     False          False         False\n",
            "3           25      True           True         False\n",
            "4           30     False          False          True\n",
            "\n"
          ]
        },
        {
          "output_type": "error",
          "ename": "NameError",
          "evalue": "name 'categorical_columns' is not defined",
          "traceback": [
            "\u001b[0;31m---------------------------------------------------------------------------\u001b[0m",
            "\u001b[0;31mNameError\u001b[0m                                 Traceback (most recent call last)",
            "\u001b[0;32m<ipython-input-24-f0b464428ae2>\u001b[0m in \u001b[0;36m<cell line: 0>\u001b[0;34m()\u001b[0m\n\u001b[1;32m     17\u001b[0m \u001b[0mencoder\u001b[0m \u001b[0;34m=\u001b[0m \u001b[0mOneHotEncoder\u001b[0m\u001b[0;34m(\u001b[0m\u001b[0msparse_output\u001b[0m\u001b[0;34m=\u001b[0m\u001b[0;32mFalse\u001b[0m\u001b[0;34m)\u001b[0m\u001b[0;34m\u001b[0m\u001b[0;34m\u001b[0m\u001b[0m\n\u001b[1;32m     18\u001b[0m \u001b[0;34m\u001b[0m\u001b[0m\n\u001b[0;32m---> 19\u001b[0;31m \u001b[0mone_hot_encoded\u001b[0m \u001b[0;34m=\u001b[0m \u001b[0mencoder\u001b[0m\u001b[0;34m.\u001b[0m\u001b[0mfit_transform\u001b[0m\u001b[0;34m(\u001b[0m\u001b[0mdf\u001b[0m\u001b[0;34m[\u001b[0m\u001b[0mcategorical_columns\u001b[0m\u001b[0;34m]\u001b[0m\u001b[0;34m)\u001b[0m\u001b[0;34m\u001b[0m\u001b[0;34m\u001b[0m\u001b[0m\n\u001b[0m\u001b[1;32m     20\u001b[0m \u001b[0;34m\u001b[0m\u001b[0m\n\u001b[1;32m     21\u001b[0m one_hot_df = pd.DataFrame(one_hot_encoded, \n",
            "\u001b[0;31mNameError\u001b[0m: name 'categorical_columns' is not defined"
          ]
        }
      ]
    },
    {
      "source": [
        "# Implementing One-Hot Encoding Using Python\n",
        "import pandas as pd\n",
        "from sklearn.preprocessing import OneHotEncoder\n",
        "\n",
        "data = {\n",
        "    'Employee id': [10, 20, 15, 25, 30],\n",
        "    'Gender': ['M', 'F', 'F', 'M', 'F'],\n",
        "    'Remarks': ['Good', 'Nice', 'Good', 'Great', 'Nice']\n",
        "}\n",
        "\n",
        "df = pd.DataFrame(data)\n",
        "print(f\"Original Employee Data:\\n{df}\\n\")\n",
        "# Use pd.get_dummies() to one-hot encode the categorical columns\n",
        "df_pandas_encoded = pd.get_dummies(df, columns=['Gender', 'Remarks'], drop_first=True)\n",
        "print(f\"One-Hot Encoded Data using Pandas:\\n{df_pandas_encoded}\\n\")\n",
        "\n",
        "encoder = OneHotEncoder(sparse_output=False)\n",
        "\n",
        "# Define the categorical columns\n",
        "categorical_columns = ['Gender', 'Remarks']\n",
        "\n",
        "one_hot_encoded = encoder.fit_transform(df[categorical_columns])\n",
        "\n",
        "one_hot_df = pd.DataFrame(one_hot_encoded,\n",
        "                          columns=encoder.get_feature_names_out(categorical_columns))\n",
        "\n",
        "df_sklearn_encoded = pd.concat([df.drop(categorical_columns, axis=1), one_hot_df], axis=1)\n",
        "\n",
        "print(f\"One-Hot Encoded Data using Scikit-Learn:\\n{df_sklearn_encoded}\\n\")"
      ],
      "cell_type": "code",
      "metadata": {
        "colab": {
          "base_uri": "https://localhost:8080/"
        },
        "id": "vR9NrtwpxfJJ",
        "outputId": "61c646f7-420b-476e-ede2-83a216f8212d"
      },
      "execution_count": null,
      "outputs": [
        {
          "output_type": "stream",
          "name": "stdout",
          "text": [
            "Original Employee Data:\n",
            "   Employee id Gender Remarks\n",
            "0           10      M    Good\n",
            "1           20      F    Nice\n",
            "2           15      F    Good\n",
            "3           25      M   Great\n",
            "4           30      F    Nice\n",
            "\n",
            "One-Hot Encoded Data using Pandas:\n",
            "   Employee id  Gender_M  Remarks_Great  Remarks_Nice\n",
            "0           10      True          False         False\n",
            "1           20     False          False          True\n",
            "2           15     False          False         False\n",
            "3           25      True           True         False\n",
            "4           30     False          False          True\n",
            "\n",
            "One-Hot Encoded Data using Scikit-Learn:\n",
            "   Employee id  Gender_F  Gender_M  Remarks_Good  Remarks_Great  Remarks_Nice\n",
            "0           10       0.0       1.0           1.0            0.0           0.0\n",
            "1           20       1.0       0.0           0.0            0.0           1.0\n",
            "2           15       1.0       0.0           1.0            0.0           0.0\n",
            "3           25       0.0       1.0           0.0            1.0           0.0\n",
            "4           30       1.0       0.0           0.0            0.0           1.0\n",
            "\n"
          ]
        }
      ]
    },
    {
      "cell_type": "markdown",
      "source": [
        "One Hot Encoding using Scikit Learn **Library**"
      ],
      "metadata": {
        "id": "FIfkWh8Mxjug"
      }
    },
    {
      "cell_type": "code",
      "source": [
        "import pandas as pd\n",
        "from sklearn.preprocessing import OneHotEncoder\n",
        "\n",
        "data = {'Employee id': [10, 20, 15, 25, 30],\n",
        "        'Gender': ['M', 'F', 'F', 'M', 'F'],\n",
        "        'Remarks': ['Good', 'Nice', 'Good', 'Great', 'Nice'],\n",
        "        }\n",
        "df = pd.DataFrame(data)\n",
        "print(f\"Employee data : \\n{df}\")\n",
        "\n",
        "categorical_columns = df.select_dtypes(include=['object']).columns.tolist()\n",
        "encoder = OneHotEncoder(sparse_output=False)\n",
        "\n",
        "one_hot_encoded = encoder.fit_transform(df[categorical_columns])\n",
        "\n",
        "one_hot_df = pd.DataFrame(one_hot_encoded, columns=encoder.get_feature_names_out(categorical_columns))\n",
        "\n",
        "df_encoded = pd.concat([df, one_hot_df], axis=1)\n",
        "\n",
        "df_encoded = df_encoded.drop(categorical_columns, axis=1)\n",
        "print(f\"Encoded Employee data : \\n{df_encoded}\")"
      ],
      "metadata": {
        "colab": {
          "base_uri": "https://localhost:8080/"
        },
        "id": "hx7n526Gxit4",
        "outputId": "77680d1b-20da-412d-c344-550c5e05d2f9"
      },
      "execution_count": null,
      "outputs": [
        {
          "output_type": "stream",
          "name": "stdout",
          "text": [
            "Employee data : \n",
            "   Employee id Gender Remarks\n",
            "0           10      M    Good\n",
            "1           20      F    Nice\n",
            "2           15      F    Good\n",
            "3           25      M   Great\n",
            "4           30      F    Nice\n",
            "Encoded Employee data : \n",
            "   Employee id  Gender_F  Gender_M  Remarks_Good  Remarks_Great  Remarks_Nice\n",
            "0           10       0.0       1.0           1.0            0.0           0.0\n",
            "1           20       1.0       0.0           0.0            0.0           1.0\n",
            "2           15       1.0       0.0           1.0            0.0           0.0\n",
            "3           25       0.0       1.0           0.0            1.0           0.0\n",
            "4           30       1.0       0.0           0.0            0.0           1.0\n"
          ]
        }
      ]
    },
    {
      "cell_type": "markdown",
      "source": [
        "pretrained embeddings\n",
        "# ***BERT***\n",
        "BERT (Bidirectional Encoder Representations from Transformers) leverages a transformer-based neural network to understand and generate human-like language. BERT employs an encoder-only architecture\n",
        "\n",
        "\n",
        "```\n",
        "Example: \"The bank is situated on the _______ of the river.\"\n",
        "In a unidirectional model, the understanding of the blank would heavily depend\n",
        "\n",
        "on the preceding words, and the model might struggle to discern whether \"bank\"\n",
        "\n",
        "refers to a financial institution or the side of the river.\n",
        "\n",
        "BERT, being bidirectional, simultaneously considers both the left (\"The bank is\n",
        "\n",
        "situated on the\") and right context (\"of the river\"), enabling a more nuanced\n",
        "\n",
        "understanding. It comprehends that the missing word is likely related to the\n",
        "\n",
        "geographical location of the bank, demonstrating the contextual richness that the bidirectional approach brings.\n",
        "```\n",
        "\n",
        "\n",
        "**Pre-training and Fine-tuning BERT Model**\n",
        "\n",
        "The BERT model undergoes a two-step process:\n",
        "\n",
        "Pre-training on Large amounts of unlabeled text to learn contextual embeddings.\n",
        "Fine-tuning on labeled data for specific NLP tasks.\n",
        "Pre-Training on Large Data\n",
        "\n",
        "\n",
        "BERT is pre-trained on large amount of unlabeled text data. The model learns contextual embeddings, which are the representations of words that take into account their surrounding context in a sentence.\n",
        "BERT engages in various unsupervised pre-training tasks.\n",
        "\n",
        " For instance, it might learn to predict missing words in a sentence (Masked Language Model or MLM task), understand the relationship between two sentences, or predict the next sentence in a pair.\n"
      ],
      "metadata": {
        "id": "iGkcEBZdxh6g"
      }
    },
    {
      "cell_type": "code",
      "source": [],
      "metadata": {
        "id": "qBRMJEMQzMCm"
      },
      "execution_count": null,
      "outputs": []
    },
    {
      "cell_type": "markdown",
      "source": [
        "**How BERT work?**\n",
        "\n",
        "BERT is designed to generate a language model so, only the encoder mechanism is used. Sequence of tokens are fed to the Transformer encoder. These tokens are first embedded into vectors and then processed in the neural network. The output is a sequence of vectors, each corresponding to an input token, providing contextualized representations.\n",
        "\n",
        "When training language models, defining a prediction goal is a challenge. Many models predict the next word in a sequence, which is a directional approach and may limit context learning.\n",
        "\n",
        "BERT addresses this challenge with two innovative training strategies:\n",
        "\n",
        "Masked Language Model (MLM)\n",
        "\n",
        "Next Sentence Prediction (NSP)\n",
        "\n",
        "1. Masked Language Model (MLM)\n",
        "In BERT's pre-training process, a portion of words in each input sequence is masked and the model is trained to predict the original values of these masked words based on the context provided by the surrounding words.\n",
        "\n",
        "In simple terms,\n",
        "\n",
        "Masking words: Before BERT learns from sentences, it hides some words (about 15%) and replaces them with a special symbol, like [MASK].\n",
        "Guessing Hidden Words: BERT's job is to figure out what these hidden words are by looking at the words around them. It's like a game of guessing where some words are missing, and BERT tries to fill in the blanks.\n",
        "How BERT learns:\n",
        "\n",
        "BERT adds a special layer on top of its learning system to make these guesses. It then checks how close its guesses are to the actual hidden words.\n",
        "It does this by converting its guesses into probabilities, saying, \"I think this word is X, and I'm this much sure about it.\"\n",
        "Special Attention to Hidden Words\n",
        "\n",
        "BERT's main focus during training is on getting these hidden words right. It cares less about predicting the words that are not hidden.\n",
        "This is because the real challenge is figuring out the missing parts, and this strategy helps BE"
      ],
      "metadata": {
        "id": "byGgIuWrzP3m"
      }
    },
    {
      "cell_type": "markdown",
      "source": [
        "*How to Tokenize and Encode Text using BERT?*"
      ],
      "metadata": {
        "id": "GzmSowY6zhdd"
      }
    },
    {
      "cell_type": "code",
      "source": [
        "!pip install transformers"
      ],
      "metadata": {
        "colab": {
          "base_uri": "https://localhost:8080/"
        },
        "id": "UkFB9dTvz8gl",
        "outputId": "4513795b-1de0-4fc2-f71f-8c73a0bf4d42"
      },
      "execution_count": null,
      "outputs": [
        {
          "output_type": "stream",
          "name": "stdout",
          "text": [
            "Requirement already satisfied: transformers in /usr/local/lib/python3.11/dist-packages (4.51.3)\n",
            "Requirement already satisfied: filelock in /usr/local/lib/python3.11/dist-packages (from transformers) (3.18.0)\n",
            "Requirement already satisfied: huggingface-hub<1.0,>=0.30.0 in /usr/local/lib/python3.11/dist-packages (from transformers) (0.31.2)\n",
            "Requirement already satisfied: numpy>=1.17 in /usr/local/lib/python3.11/dist-packages (from transformers) (2.0.2)\n",
            "Requirement already satisfied: packaging>=20.0 in /usr/local/lib/python3.11/dist-packages (from transformers) (24.2)\n",
            "Requirement already satisfied: pyyaml>=5.1 in /usr/local/lib/python3.11/dist-packages (from transformers) (6.0.2)\n",
            "Requirement already satisfied: regex!=2019.12.17 in /usr/local/lib/python3.11/dist-packages (from transformers) (2024.11.6)\n",
            "Requirement already satisfied: requests in /usr/local/lib/python3.11/dist-packages (from transformers) (2.32.3)\n",
            "Requirement already satisfied: tokenizers<0.22,>=0.21 in /usr/local/lib/python3.11/dist-packages (from transformers) (0.21.1)\n",
            "Requirement already satisfied: safetensors>=0.4.3 in /usr/local/lib/python3.11/dist-packages (from transformers) (0.5.3)\n",
            "Requirement already satisfied: tqdm>=4.27 in /usr/local/lib/python3.11/dist-packages (from transformers) (4.67.1)\n",
            "Requirement already satisfied: fsspec>=2023.5.0 in /usr/local/lib/python3.11/dist-packages (from huggingface-hub<1.0,>=0.30.0->transformers) (2025.3.2)\n",
            "Requirement already satisfied: typing-extensions>=3.7.4.3 in /usr/local/lib/python3.11/dist-packages (from huggingface-hub<1.0,>=0.30.0->transformers) (4.13.2)\n",
            "Requirement already satisfied: charset-normalizer<4,>=2 in /usr/local/lib/python3.11/dist-packages (from requests->transformers) (3.4.2)\n",
            "Requirement already satisfied: idna<4,>=2.5 in /usr/local/lib/python3.11/dist-packages (from requests->transformers) (3.10)\n",
            "Requirement already satisfied: urllib3<3,>=1.21.1 in /usr/local/lib/python3.11/dist-packages (from requests->transformers) (2.4.0)\n",
            "Requirement already satisfied: certifi>=2017.4.17 in /usr/local/lib/python3.11/dist-packages (from requests->transformers) (2025.4.26)\n"
          ]
        }
      ]
    },
    {
      "cell_type": "code",
      "source": [
        "from transformers import BertTokenizer\n",
        "\n",
        "# Load pre-trained BERT tokenizer\n",
        "tokenizer = BertTokenizer.from_pretrained(\"bert-base-cased\")\n",
        "\n",
        "# Input text\n",
        "text = 'ChatGPT is a language model developed by OpenAI, based on the GPT (Generative Pre-trained Transformer) architecture. '\n",
        "\n",
        "# Tokenize and encode the text\n",
        "encoding = tokenizer.encode(text)\n",
        "\n",
        "# Print the token IDs\n",
        "print(\"Token IDs:\", encoding)\n",
        "\n",
        "# Convert token IDs back to tokens\n",
        "tokens = tokenizer.convert_ids_to_tokens(encoding)\n",
        "\n",
        "# Print the corresponding tokens\n",
        "print(\"Tokens:\", tokens)"
      ],
      "metadata": {
        "id": "4hLXLTrg0JPl",
        "outputId": "116a27ad-6786-4ea9-b35c-43b5445377e7",
        "colab": {
          "base_uri": "https://localhost:8080/",
          "height": 304,
          "referenced_widgets": [
            "0e7e75dce51b43209afce199213f5270",
            "82d0c320b726479f9e277b4b44a8948e",
            "5c412ea6a49545798a1120f0ceaf9f64",
            "67ee4fef4a314b4e8f31c2e799b713cd",
            "e79f232d6b4c40469afea7f634b6bc64",
            "f6c32a751a554c12bc1b34f187b8d77a",
            "2b473c1c162048dfb154da1e23f8b835",
            "3b12ab8cf62145d8b995fd0c8c0a3bd4",
            "3cf8e01822f14657bc16751a941d2eb0",
            "cbec5064150d4ab9a1509d1d69ebba11",
            "dfce459a40f84498ad7504e62e406c07",
            "6bacb0410de04fee8e5fa8bcc4c8ee3d",
            "19d165006bb043c2aee9cd9f697b3024",
            "6fd555810e764e00bce6229870128843",
            "3c8b0dc4ee384f1e86efb99626dad857",
            "8fbaf54172d8469a96f4f017d22ed63c",
            "7b1eb9b8a1d547a1b4390b8b5d958dc7",
            "5895f6c6f9d44f09a5b786b1b1196dd8",
            "ab69c764e23748a891efb88a0658acf9",
            "da09cde223e648aeb0313dfed6429cf0",
            "4dd11a4d4f394c74971da5276afc4294",
            "da34708904ef457397f26400ced17ffc",
            "ab80d460cacd465bb9eabf7b6c171b3e",
            "6fca55e8e27a4d05987754ec3b9b7a74",
            "1b77aba3cebc4164a3080449261acc3b",
            "d9632fc3dd6549f9996167f06d9a6669",
            "f85dd0e73e7b401cb4e038b5d7238f3c",
            "853444aa174840d389b6766d1322f798",
            "1e3284bc43144d65a30d0d0cbc1db9aa",
            "d912587c7e5544a98e16d68ec30e9ef4",
            "9e3ca7ffca904647a5a67ded7cbd8e5e",
            "02fba7c8ad114eeaa5211049bbef04ab",
            "4d89ea248d2749c5a1567a4dba046eda",
            "826b2d1b91a54de7be6ae61f4a0956a0",
            "78f60ce6619b46e1ac60b7b9e20ea4c5",
            "010703076201472e8766b6af44b96a6c",
            "74d1f0a6149c40f6adf0e733054ce639",
            "44c00ae4590043e883de7fe4ed3d0489",
            "1deae4b49beb4318bfdd4ef6133c9f8d",
            "3172efe4593045958f93191e5b802adb",
            "69edc0d7de0f45819be575e5c7f38f57",
            "a6c764b20d7d4cb4967699ab694ee19b",
            "5614563c1ae64adbabbbcc0585717ff1",
            "adb3656755ae4e78a13fdb19684b4313"
          ]
        }
      },
      "execution_count": null,
      "outputs": [
        {
          "output_type": "stream",
          "name": "stderr",
          "text": [
            "/usr/local/lib/python3.11/dist-packages/huggingface_hub/utils/_auth.py:94: UserWarning: \n",
            "The secret `HF_TOKEN` does not exist in your Colab secrets.\n",
            "To authenticate with the Hugging Face Hub, create a token in your settings tab (https://huggingface.co/settings/tokens), set it as secret in your Google Colab and restart your session.\n",
            "You will be able to reuse this secret in all of your notebooks.\n",
            "Please note that authentication is recommended but still optional to access public models or datasets.\n",
            "  warnings.warn(\n"
          ]
        },
        {
          "output_type": "display_data",
          "data": {
            "text/plain": [
              "tokenizer_config.json:   0%|          | 0.00/49.0 [00:00<?, ?B/s]"
            ],
            "application/vnd.jupyter.widget-view+json": {
              "version_major": 2,
              "version_minor": 0,
              "model_id": "0e7e75dce51b43209afce199213f5270"
            }
          },
          "metadata": {}
        },
        {
          "output_type": "display_data",
          "data": {
            "text/plain": [
              "vocab.txt:   0%|          | 0.00/213k [00:00<?, ?B/s]"
            ],
            "application/vnd.jupyter.widget-view+json": {
              "version_major": 2,
              "version_minor": 0,
              "model_id": "6bacb0410de04fee8e5fa8bcc4c8ee3d"
            }
          },
          "metadata": {}
        },
        {
          "output_type": "display_data",
          "data": {
            "text/plain": [
              "tokenizer.json:   0%|          | 0.00/436k [00:00<?, ?B/s]"
            ],
            "application/vnd.jupyter.widget-view+json": {
              "version_major": 2,
              "version_minor": 0,
              "model_id": "ab80d460cacd465bb9eabf7b6c171b3e"
            }
          },
          "metadata": {}
        },
        {
          "output_type": "display_data",
          "data": {
            "text/plain": [
              "config.json:   0%|          | 0.00/570 [00:00<?, ?B/s]"
            ],
            "application/vnd.jupyter.widget-view+json": {
              "version_major": 2,
              "version_minor": 0,
              "model_id": "826b2d1b91a54de7be6ae61f4a0956a0"
            }
          },
          "metadata": {}
        },
        {
          "output_type": "stream",
          "name": "stdout",
          "text": [
            "Token IDs: [101, 24705, 1204, 17095, 1942, 1110, 170, 1846, 2235, 1872, 1118, 3353, 1592, 2240, 117, 1359, 1113, 1103, 15175, 1942, 113, 9066, 15306, 11689, 118, 3972, 13809, 23763, 114, 4220, 119, 102]\n",
            "Tokens: ['[CLS]', 'Cha', '##t', '##GP', '##T', 'is', 'a', 'language', 'model', 'developed', 'by', 'Open', '##A', '##I', ',', 'based', 'on', 'the', 'GP', '##T', '(', 'Gene', '##rative', 'Pre', '-', 'trained', 'Trans', '##former', ')', 'architecture', '.', '[SEP]']\n"
          ]
        }
      ]
    }
  ]
}